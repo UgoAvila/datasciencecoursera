{
 "cells": [
  {
   "cell_type": "code",
   "execution_count": 2,
   "metadata": {
    "collapsed": true
   },
   "outputs": [],
   "source": [
    "library(deSolve)\n",
    "library(rootSolve)\n",
    "library(plyr)"
   ]
  },
  {
   "cell_type": "code",
   "execution_count": 3,
   "metadata": {
    "collapsed": false
   },
   "outputs": [],
   "source": [
    "# load ode network\n",
    "source(\"References/minTF5-ODE.R\")\n",
    "attr.bool <- read.csv(\"References/minTF5-attr.csv\", stringsAsFactors=FALSE)\n",
    "node.names <- names(attr.bool)[-length(attr.bool)]\n",
    "parms <- c(rep(1,length(node.names)-9), rep(0,9))\n",
    "names(parms) <- paste(\"k\", node.names, sep=\"\")\n",
    "parms <- c(h=10, parms)\n"
   ]
  },
  {
   "cell_type": "markdown",
   "metadata": {},
   "source": [
    "## Verify attractors"
   ]
  },
  {
   "cell_type": "code",
   "execution_count": 21,
   "metadata": {
    "collapsed": false,
    "scrolled": false
   },
   "outputs": [],
   "source": [
    "df <- apply(attr.bool, 1, function(s0) {\n",
    "    label <- s0[length(s0)]\n",
    "    s0 <- s0[-length(s0)]\n",
    "    s0 <- gsub(\"\\\\*\", \"0\", s0)\n",
    "    s0 <- sapply(s0, as.numeric)\n",
    "    sf <- runsteady(y = s0, fun = network, parms = parms, times = c(0, 1e5))$y\n",
    "    dif <- sum(abs(sf-s0))\n",
    "    c(label,sf,difference=dif)\n",
    "})\n",
    "write.csv(t(df), 'Diff_bool_cont.csv')"
   ]
  },
  {
   "cell_type": "markdown",
   "metadata": {},
   "source": [
    "## Th0 - one node"
   ]
  },
  {
   "cell_type": "code",
   "execution_count": 46,
   "metadata": {
    "collapsed": true
   },
   "outputs": [],
   "source": [
    "th0 = rep(0, length(node.names))\n",
    "names(th0) <- node.names\n",
    "values <- seq(0,1,by=.025)"
   ]
  },
  {
   "cell_type": "code",
   "execution_count": 9,
   "metadata": {
    "collapsed": false
   },
   "outputs": [
    {
     "name": "stdout",
     "output_type": "stream",
     "text": [
      "[1] \"Results/csv/Th0_IL12e.csv\"\n",
      "[1] \"Results/csv/Th0_IFNGe.csv\"\n",
      "[1] \"Results/csv/Th0_IL2e.csv\"\n",
      "[1] \"Results/csv/Th0_IL4e.csv\"\n",
      "[1] \"Results/csv/Th0_IL6e.csv\"\n",
      "[1] \"Results/csv/Th0_IL21e.csv\"\n",
      "[1] \"Results/csv/Th0_TGFBe.csv\"\n",
      "[1] \"Results/csv/Th0_IL10e.csv\"\n",
      "[1] \"Results/csv/Th0_IL27e.csv\"\n"
     ]
    }
   ],
   "source": [
    "dir.create(\"Results-Th0-1node\", showWarnings = FALSE)\n",
    "dir.create(\"Results-Th0-1node/csv\", showWarnings = FALSE)\n",
    "\n",
    "extrinsic <- node.names[13:length(node.names)]\n",
    "\n",
    "for (env in extrinsic) {\n",
    "    env.index <- which(node.names==env)\n",
    "    res <- matrix(0, length(values), length(node.names))\n",
    "    colnames(res) <- node.names\n",
    "    rownames(res) <- values\n",
    "    for (i in seq(length(values))) {\n",
    "        s0 <- th0\n",
    "        s0[env.index] <- values[i]\n",
    "        res[i,] <- runsteady(y = s0, fun = network, parms = parms, times = c(0, 1e3))$y\n",
    "        #dif <- sum(abs(sf-s0))\n",
    "        #print(dif)\n",
    "    }\n",
    "    print( paste0(\"Results-Th0-1node/csv/Th0_\",env,'.csv') )\n",
    "    write.csv(res, paste0(\"Results-Th0-1node/csv/Th0_\",env,'.csv'))\n",
    "}"
   ]
  },
  {
   "cell_type": "code",
   "execution_count": 47,
   "metadata": {
    "collapsed": false,
    "scrolled": true
   },
   "outputs": [
    {
     "name": "stdout",
     "output_type": "stream",
     "text": [
      "     V2      V3 \n",
      "\"IL12e\" \"IFNGe\" \n",
      "[1] \"Results-Th0-env/csv/Th0_IL12e+IFNGe.csv\"\n",
      "    V2     V3 \n",
      "\"IL2e\" \"IL4e\" \n",
      "[1] \"Results-Th0-env/csv/Th0_IL2e+IL4e.csv\"\n",
      "     V2      V3      V4 \n",
      " \"IL6e\" \"IL21e\" \"TGFBe\" \n",
      "[1] \"Results-Th0-env/csv/Th0_IL6e+IL21e+TGFBe.csv\"\n",
      "     V2      V3 \n",
      " \"IL2e\" \"TGFBe\" \n",
      "[1] \"Results-Th0-env/csv/Th0_IL2e+TGFBe.csv\"\n",
      "     V2      V3 \n",
      "\"IL10e\" \"IL27e\" \n",
      "[1] \"Results-Th0-env/csv/Th0_IL10e+IL27e.csv\"\n",
      "     V2 \n",
      "\"IL21e\" \n",
      "[1] \"Results-Th0-env/csv/Th0_IL21e.csv\"\n",
      "     V2      V3 \n",
      " \"IL4e\" \"TGFBe\" \n",
      "[1] \"Results-Th0-env/csv/Th0_IL4e+TGFBe.csv\"\n",
      "     V2 \n",
      "\"TGFBe\" \n",
      "[1] \"Results-Th0-env/csv/Th0_TGFBe.csv\"\n"
     ]
    }
   ],
   "source": [
    "dir.create(\"Results-Th0-env\", showWarnings = FALSE)\n",
    "dir.create(\"Results-Th0-env/csv\", showWarnings = FALSE)\n",
    "\n",
    "environments <- read.csv(\"References//minTF5-env.csv\", header=F, row.names=1, stringsAsFactors=FALSE)\n",
    "environments <- apply(environments, 1, function(s0) {s0 <- s0[s0!=\"\"]})\n",
    "\n",
    "for (env in environments) {\n",
    "    env.index <- match(env,node.names)\n",
    "    res <- matrix(0, length(values), length(node.names))\n",
    "    colnames(res) <- node.names\n",
    "    rownames(res) <- values\n",
    "    for (i in seq(length(values))) {\n",
    "        s0 <- th0\n",
    "        s0[env.index] <- values[i]\n",
    "        res[i,] <- runsteady(y = s0, fun = network, parms = parms, times = c(0, 1e3))$y\n",
    "        #dif <- sum(abs(sf-s0))\n",
    "        #print(dif)\n",
    "    }\n",
    "    print( paste0(\"Results-Th0-env/csv/Th0_\",paste0(env,collapse='+'),'.csv') )\n",
    "    write.csv(res, paste0(\"Results-Th0-env/csv/Th0_\",paste0(env,collapse='+'),'.csv') )\n",
    "}"
   ]
  }
 ],
 "metadata": {
  "kernelspec": {
   "display_name": "R",
   "language": "R",
   "name": "ir"
  },
  "language_info": {
   "codemirror_mode": "r",
   "file_extension": ".r",
   "mimetype": "text/x-r-source",
   "name": "R",
   "pygments_lexer": "r",
   "version": "3.4.3"
  }
 },
 "nbformat": 4,
 "nbformat_minor": 1
}
